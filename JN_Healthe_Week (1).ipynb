{
 "cells": [
  {
   "cell_type": "markdown",
   "id": "dfb1c4cd",
   "metadata": {},
   "source": [
    "## Creating DataFrames"
   ]
  },
  {
   "cell_type": "markdown",
   "id": "8fa70112",
   "metadata": {},
   "source": [
    "#### Creating DataFrame From A List"
   ]
  },
  {
   "cell_type": "code",
   "execution_count": null,
   "id": "110a8e9a",
   "metadata": {},
   "outputs": [],
   "source": [
    "import pandas as pd\n",
    "\n",
    "data = [['Axel',32], ['Alice', 26], ['Alex', 45]]\n",
    "df = pd.DataFrame(data,columns=['Name','Age'])\n",
    "df"
   ]
  },
  {
   "cell_type": "markdown",
   "id": "3734ccd1",
   "metadata": {},
   "source": [
    "#### Creating DataFrame From A Dictionary"
   ]
  },
  {
   "cell_type": "code",
   "execution_count": null,
   "id": "b6c47234",
   "metadata": {},
   "outputs": [],
   "source": [
    "d2f = {'State':['Fl', 'GA', 'TN', 'AL'], 'Captial': ['Tallahassee', 'Atlanta', 'Nashville', 'Montgomery']\n",
    "          , 'Name': ['John', 'Alex', 'Jim', 'Dan']}\n",
    "df1 = pd.DataFrame(d2f)\n",
    "df1"
   ]
  },
  {
   "cell_type": "markdown",
   "id": "08723e52",
   "metadata": {},
   "source": [
    "#### Change Index Of DataFrame"
   ]
  },
  {
   "cell_type": "code",
   "execution_count": null,
   "id": "c7880d5d",
   "metadata": {},
   "outputs": [],
   "source": [
    "df = pd.DataFrame(d2f, index=['A', 'B', 'C', 'D'])\n",
    "df"
   ]
  },
  {
   "cell_type": "markdown",
   "id": "8dda28b9",
   "metadata": {},
   "source": [
    "#### Appending A Row"
   ]
  },
  {
   "cell_type": "code",
   "execution_count": null,
   "id": "69925bad",
   "metadata": {},
   "outputs": [],
   "source": [
    "import pandas as pd\n",
    "\n",
    "new_row = pd.DataFrame([['KY', 'Lexington', 'Kyle']], columns = ['State', 'Captial', 'Name'], index=['E'])\n",
    "df = df.append(new_row)\n",
    "df"
   ]
  },
  {
   "cell_type": "markdown",
   "id": "cb22f025",
   "metadata": {},
   "source": [
    "#### Appending Multiple Rows"
   ]
  },
  {
   "cell_type": "code",
   "execution_count": null,
   "id": "0f681dd9",
   "metadata": {},
   "outputs": [],
   "source": [
    "data1 = {\n",
    "    'Name': ['Microsoft Corporation', 'Google, LLC', 'Tesla, Inc.'],\n",
    "    'Symbol': ['MSFT', 'GOOG', 'TSLA'],\n",
    "    'Shares': [100, 50, 150]\n",
    "}\n",
    "df1 = pd.DataFrame(data1)\n",
    "# print the original dataframe\n",
    "print(\"The original dataframe:\\n\")\n",
    "print(df1)\n",
    "# The dataframe to append\n",
    "data2 = {\n",
    "    'Name':['Apple Inc.', 'Netflix, Inc.'],\n",
    "    'Symbol':['APPL', 'NFLX'],\n",
    "    'Shares': [200, 80]\n",
    "}\n",
    "df2 = pd.DataFrame(data2)\n",
    "# print the dataframe to append\n",
    "print(\"\\nThe dataframe to append:\\n\")\n",
    "print(df2)\n",
    "# Append rows\n",
    "df3 = df1.append(df2)  #ignore_index = True\n",
    "print(\"\\nThe appended dataframe:\\n\")\n",
    "print(df3)"
   ]
  },
  {
   "cell_type": "markdown",
   "id": "fd1a4cfc",
   "metadata": {},
   "source": [
    "#### Adding A Column To DataFrame"
   ]
  },
  {
   "cell_type": "code",
   "execution_count": null,
   "id": "25527b27",
   "metadata": {},
   "outputs": [],
   "source": [
    "import pandas as pd\n",
    "\n",
    "df = pd.DataFrame({\n",
    "    'Name': ['Jane', 'Mitch', 'Alex', 'Evan', 'Melissa'],\n",
    "    'Location': ['Toronto', 'New York', 'Los Angeles', 'Vancouver', 'Seattle'],\n",
    "    'Amount': [99.99, 123.12, 150.23, 52.34, 12.34]})\n",
    "\n",
    "df"
   ]
  },
  {
   "cell_type": "code",
   "execution_count": null,
   "id": "2bfe93cd",
   "metadata": {},
   "outputs": [],
   "source": [
    "df['Country'] = ['Canada', 'USA', 'USA', 'Canada', 'USA']  #Add multiple values\n",
    "#df['Company'] = 'datagy'   #Add single value\n",
    "df"
   ]
  },
  {
   "cell_type": "markdown",
   "id": "66c42bf7",
   "metadata": {},
   "source": [
    "#### Adding Multiple Columns To DataFrame"
   ]
  },
  {
   "cell_type": "code",
   "execution_count": null,
   "id": "d093910e",
   "metadata": {},
   "outputs": [],
   "source": [
    "df['New_Column'], df['New_Column_1'] = [[1,2,3,4,5], [6,7,8,9,0]]\n",
    "df"
   ]
  },
  {
   "cell_type": "markdown",
   "id": "873d6862",
   "metadata": {},
   "source": [
    "#### Deleting A Row"
   ]
  },
  {
   "cell_type": "code",
   "execution_count": null,
   "id": "b414a739",
   "metadata": {},
   "outputs": [],
   "source": [
    "d2f = {'State':['Fl', 'GA', 'TN', 'AL'], 'Captial': ['Tallahassee', 'Atlanta', 'Nashville', 'Montgomery']\n",
    "          , 'Name': ['John', 'Alex', 'Jim', 'Dan']}\n",
    "df1 = pd.DataFrame(d2f)\n",
    "df1\n"
   ]
  },
  {
   "cell_type": "markdown",
   "id": "949a27ff",
   "metadata": {},
   "source": [
    "#### Changing Row Index"
   ]
  },
  {
   "cell_type": "code",
   "execution_count": null,
   "id": "ca50a8e4",
   "metadata": {},
   "outputs": [],
   "source": [
    "df = pd.DataFrame(d2f, index=['A', 'B', 'C', 'D'])\n",
    "df"
   ]
  },
  {
   "cell_type": "markdown",
   "id": "46fba9e6",
   "metadata": {},
   "source": [
    "#### Deleting A Row"
   ]
  },
  {
   "cell_type": "code",
   "execution_count": null,
   "id": "d1eae18d",
   "metadata": {},
   "outputs": [],
   "source": [
    "df = df.drop(['C'], axis=0)   ## to drop multiple rows use a list (i.e. ['A', 'B', 'C'......])\n",
    "df"
   ]
  },
  {
   "cell_type": "markdown",
   "id": "86e66695",
   "metadata": {},
   "source": [
    "#### Deleting A Column"
   ]
  },
  {
   "cell_type": "code",
   "execution_count": null,
   "id": "32f25837",
   "metadata": {},
   "outputs": [],
   "source": [
    "df = df.drop(['Name'], axis = 1)\n",
    "df"
   ]
  },
  {
   "cell_type": "markdown",
   "id": "afe90e41",
   "metadata": {},
   "source": [
    "#### Renaming Column"
   ]
  },
  {
   "cell_type": "code",
   "execution_count": null,
   "id": "57b66aef",
   "metadata": {},
   "outputs": [],
   "source": [
    "print(df1)\n",
    "print('\\n')  ## adds space between lines\n",
    "print(df1.rename(columns = {'Name': 'FirstName'}))\n"
   ]
  },
  {
   "cell_type": "markdown",
   "id": "2373b922",
   "metadata": {},
   "source": [
    "## Replacing Null(NaN) Values"
   ]
  },
  {
   "cell_type": "code",
   "execution_count": null,
   "id": "6e1896e5",
   "metadata": {},
   "outputs": [],
   "source": [
    "import numpy as np\n",
    "\n",
    "df = pd.DataFrame({'values': [700, np.nan, 500, np.nan]})\n",
    "df"
   ]
  },
  {
   "cell_type": "markdown",
   "id": "138481b4",
   "metadata": {},
   "source": [
    "#### Using Fillna"
   ]
  },
  {
   "cell_type": "code",
   "execution_count": null,
   "id": "d6519e03",
   "metadata": {},
   "outputs": [],
   "source": [
    "df = df['values'].fillna(0)\n",
    "df"
   ]
  },
  {
   "cell_type": "markdown",
   "id": "99f9ea3d",
   "metadata": {},
   "source": [
    "#### Using Filna to replace Null(Nan) Values throughout entire dataframe"
   ]
  },
  {
   "cell_type": "code",
   "execution_count": null,
   "id": "0900bb9c",
   "metadata": {},
   "outputs": [],
   "source": [
    "df = pd.DataFrame({'values_1': [700, np.nan, 500, np.nan],\n",
    "                   'values_2': [np.nan, 150, np.nan, 400] ,\n",
    "                   })\n",
    "df"
   ]
  },
  {
   "cell_type": "code",
   "execution_count": null,
   "id": "498a1426",
   "metadata": {},
   "outputs": [],
   "source": [
    "df.fillna(0)"
   ]
  },
  {
   "cell_type": "markdown",
   "id": "34d06b8e",
   "metadata": {},
   "source": [
    "#### Fillna Specific Columns Only"
   ]
  },
  {
   "cell_type": "code",
   "execution_count": null,
   "id": "604aa8a5",
   "metadata": {},
   "outputs": [],
   "source": [
    "df = pd.DataFrame({'values_1': [700, np.nan, 500, np.nan],\n",
    "                   'values_2': [np.nan, 150, np.nan, 400] ,\n",
    "                   'values_3': [np.nan, np.nan, 300, 450]\n",
    "                   })\n",
    "df"
   ]
  },
  {
   "cell_type": "code",
   "execution_count": null,
   "id": "79e7b0d2",
   "metadata": {},
   "outputs": [],
   "source": [
    "df[['values_1', 'values_3']]= df[['values_1', 'values_3']].fillna(0)\n",
    "df"
   ]
  },
  {
   "cell_type": "markdown",
   "id": "65039d26",
   "metadata": {},
   "source": [
    "## Dropping Missing Values"
   ]
  },
  {
   "cell_type": "code",
   "execution_count": null,
   "id": "e08444f3",
   "metadata": {},
   "outputs": [],
   "source": [
    "\n",
    "# Create the data of the DataFrame as a dictionary\n",
    "data_dict = {'Name': ['Ankit', 'Aman', 'Riya', 'Ayush', 'Anushka'],\n",
    "             'ID': [4001, 4002, np.nan, np.nan, 4010], \n",
    "             'Department': ['Technical', np.nan, np.nan, np.nan, 'Marketing'],\n",
    "             'Qualification': [np.nan, np.nan, np.nan, np.nan, 'M.A.']}\n",
    "\n",
    "# Create the DataFrame\n",
    "df = pd.DataFrame(data_dict)\n",
    "df\n"
   ]
  },
  {
   "cell_type": "markdown",
   "id": "7aa6dbe0",
   "metadata": {},
   "source": [
    "#### Dropping All Rows that have at least 1 missing value"
   ]
  },
  {
   "cell_type": "code",
   "execution_count": null,
   "id": "7b8b0086",
   "metadata": {},
   "outputs": [],
   "source": [
    "df.dropna()"
   ]
  },
  {
   "cell_type": "markdown",
   "id": "9665b20a",
   "metadata": {},
   "source": [
    "#### Dropping All Columns having at least 1 missing values"
   ]
  },
  {
   "cell_type": "code",
   "execution_count": null,
   "id": "9855bc48",
   "metadata": {},
   "outputs": [],
   "source": [
    "df.dropna(axis=1)"
   ]
  },
  {
   "cell_type": "markdown",
   "id": "1dcdca77",
   "metadata": {},
   "source": [
    "#### Dropping All Rows or Columns With Null(Nan) Values"
   ]
  },
  {
   "cell_type": "code",
   "execution_count": null,
   "id": "9bd90adb",
   "metadata": {},
   "outputs": [],
   "source": [
    "data_dict = {'Name': ['Ankit', 'Aman', 'Riya', 'Ayush', 'Anushka'],\n",
    "             'ID': [4001, 4002, np.nan, np.nan, 4010],\n",
    "             'Department': ['Technical', np.nan, np.nan, np.nan, 'Marketing'],\n",
    "             'Qualification': [np.nan, np.nan, np.nan, np.nan, np.nan]}\n",
    "\n",
    "df = pd.DataFrame(data_dict)\n",
    "\n",
    "df"
   ]
  },
  {
   "cell_type": "code",
   "execution_count": null,
   "id": "79bf958a",
   "metadata": {},
   "outputs": [],
   "source": [
    "df.dropna(axis=1, how='all')"
   ]
  },
  {
   "cell_type": "markdown",
   "id": "b1978f0a",
   "metadata": {},
   "source": [
    "#### Dropping Rows/Columns That Contain Missing Values Above A Certain Threshold"
   ]
  },
  {
   "cell_type": "code",
   "execution_count": null,
   "id": "f32ffafb",
   "metadata": {},
   "outputs": [],
   "source": [
    "# Keep rows that contain at least 2 non-missing values\n",
    "df.dropna(axis=0, thresh=2)"
   ]
  },
  {
   "cell_type": "markdown",
   "id": "81a47445",
   "metadata": {},
   "source": [
    "#### Dropping Rows If Missing Values Are Present Only In Specific Columns"
   ]
  },
  {
   "cell_type": "code",
   "execution_count": null,
   "id": "2f9b2133",
   "metadata": {},
   "outputs": [],
   "source": [
    "# Drop only those rows where the specified column has a missing value\n",
    "df.dropna(subset=['ID', 'Department'])"
   ]
  },
  {
   "cell_type": "markdown",
   "id": "08bae2ae",
   "metadata": {},
   "source": [
    "## Replacing Values In DataFrame"
   ]
  },
  {
   "cell_type": "code",
   "execution_count": null,
   "id": "a16169f1",
   "metadata": {},
   "outputs": [],
   "source": [
    "import pandas as pd\n",
    "\n",
    "colors = {'first_set':  ['Green','Green','Green','Blue','Blue','Red','Red','Red'],\n",
    "          'second_set': ['Yellow','Yellow','Yellow','White','White','Blue','Blue','Blue']\n",
    "         }\n",
    "\n",
    "df = pd.DataFrame(colors, columns= ['first_set','second_set'])\n",
    "df"
   ]
  },
  {
   "cell_type": "markdown",
   "id": "653bb2d7",
   "metadata": {},
   "source": [
    "#### Replacing Values Throughout Entire Dataframe"
   ]
  },
  {
   "cell_type": "code",
   "execution_count": null,
   "id": "fa884065",
   "metadata": {},
   "outputs": [],
   "source": [
    "df.replace(['Blue'],'Green')\n"
   ]
  },
  {
   "cell_type": "markdown",
   "id": "9296066c",
   "metadata": {},
   "source": [
    "#### Replace More Than 1 Value Throughout Entire DataFrame"
   ]
  },
  {
   "cell_type": "code",
   "execution_count": null,
   "id": "0da46eb4",
   "metadata": {},
   "outputs": [],
   "source": [
    " df.replace(['Blue','Red'],'Green')\n"
   ]
  },
  {
   "cell_type": "markdown",
   "id": "1d1cd65b",
   "metadata": {},
   "source": [
    "#### Replacing 1 Value in a Column"
   ]
  },
  {
   "cell_type": "code",
   "execution_count": null,
   "id": "d4aff397",
   "metadata": {},
   "outputs": [],
   "source": [
    "df['first_set'] = df['first_set'].replace(['Blue'],'Green')\n",
    "df"
   ]
  },
  {
   "cell_type": "markdown",
   "id": "d7459ecf",
   "metadata": {},
   "source": [
    "#### Replacing Multiple Values in a Column"
   ]
  },
  {
   "cell_type": "code",
   "execution_count": null,
   "id": "88d8c452",
   "metadata": {},
   "outputs": [],
   "source": [
    "df['first_set'] = df['first_set'].replace(['Blue','Red'],'Green')\n",
    "df"
   ]
  },
  {
   "cell_type": "markdown",
   "id": "d0fd6d22",
   "metadata": {},
   "source": [
    "#### Replacing More Than 1 Values With Multiple Values"
   ]
  },
  {
   "cell_type": "code",
   "execution_count": null,
   "id": "60582ec5",
   "metadata": {},
   "outputs": [],
   "source": [
    "df['first_set'] = df['first_set'].replace(['Blue','Red'],['Green','White'])\n",
    "df"
   ]
  },
  {
   "cell_type": "markdown",
   "id": "950c3acf",
   "metadata": {},
   "source": [
    "## Loading Data Sets"
   ]
  },
  {
   "cell_type": "markdown",
   "id": "8d5b3ddf",
   "metadata": {},
   "source": [
    "#### CSV File"
   ]
  },
  {
   "cell_type": "code",
   "execution_count": null,
   "id": "5958a8ee",
   "metadata": {},
   "outputs": [],
   "source": [
    "import pandas as pd\n",
    "\n",
    "df1 = pd.read_csv(r'C:\\Users\\rquiles\\OneDrive - Healthesystems, LLC\\Desktop\\JN_Practice_Data_Set_Healthe_Week.csv')\n",
    "df1.head()"
   ]
  },
  {
   "cell_type": "markdown",
   "id": "98c00481",
   "metadata": {},
   "source": [
    "#### Excel File\n"
   ]
  },
  {
   "cell_type": "code",
   "execution_count": null,
   "id": "a2a0d4e4",
   "metadata": {},
   "outputs": [],
   "source": [
    "df2 = pd.read_excel(r'C:\\Users\\rquiles\\OneDrive - Healthesystems, LLC\\Desktop\\JN_Practice_Data_Set_Healthe_Week.xlsx')\n",
    "df2.head()\n"
   ]
  },
  {
   "cell_type": "code",
   "execution_count": null,
   "id": "95ff727b",
   "metadata": {},
   "outputs": [],
   "source": [
    "#Shows information about the data set\n",
    "df2.info()"
   ]
  },
  {
   "cell_type": "markdown",
   "id": "7feb6ea3",
   "metadata": {},
   "source": [
    "#### SQL Server"
   ]
  },
  {
   "cell_type": "code",
   "execution_count": null,
   "id": "14d36f99",
   "metadata": {},
   "outputs": [],
   "source": [
    "import pyodbc\n",
    "#import pandas as pd\n",
    "pd.set_option(\"display.max_columns\", None)\n",
    "pd.set_option('display.max_rows', None)\n",
    "\n",
    "conx_string = \"driver={SQL SERVER}; server=SQL-ADHOC; database=ProgPerf; trusted_connection=YES\"\n",
    "conx = pyodbc.connect(conx_string)"
   ]
  },
  {
   "cell_type": "code",
   "execution_count": null,
   "id": "f0b23588",
   "metadata": {},
   "outputs": [],
   "source": [
    "query = \"\"\"\n",
    " select top 10 * from progperf..abm_billed_data where service_cd = 'trp' and year(date_of_service)='2021'\n",
    "\n",
    "\"\"\""
   ]
  },
  {
   "cell_type": "code",
   "execution_count": null,
   "id": "2b45f99b",
   "metadata": {},
   "outputs": [],
   "source": [
    "df3 = pd.read_sql(query, conx)\n",
    "df3.head()"
   ]
  },
  {
   "cell_type": "markdown",
   "id": "38e77180",
   "metadata": {},
   "source": [
    "## Selecting Rows"
   ]
  },
  {
   "cell_type": "markdown",
   "id": "fa37d5f1",
   "metadata": {},
   "source": [
    "#### .iloc"
   ]
  },
  {
   "cell_type": "code",
   "execution_count": null,
   "id": "c425b419",
   "metadata": {},
   "outputs": [],
   "source": [
    "df3.iloc[1:5, 2:6]"
   ]
  },
  {
   "cell_type": "markdown",
   "id": "8ca26cc8",
   "metadata": {},
   "source": [
    "#### LOC"
   ]
  },
  {
   "cell_type": "code",
   "execution_count": null,
   "id": "36677f78",
   "metadata": {},
   "outputs": [],
   "source": [
    "df3.loc[2:5, ['Customer', 'Date_of_Loss']]"
   ]
  },
  {
   "cell_type": "code",
   "execution_count": null,
   "id": "a9d0754b",
   "metadata": {},
   "outputs": [],
   "source": [
    "df3.loc[[2,4], :'Date_of_Loss']  #syntax for specific index columns"
   ]
  },
  {
   "cell_type": "code",
   "execution_count": null,
   "id": "3ddd6478",
   "metadata": {},
   "outputs": [],
   "source": [
    "df3.loc[[2,4], 'Date_of_Loss':]"
   ]
  },
  {
   "cell_type": "code",
   "execution_count": null,
   "id": "f173be7c",
   "metadata": {},
   "outputs": [],
   "source": [
    "df3.loc[2:, 'Date_of_Loss':]"
   ]
  },
  {
   "cell_type": "code",
   "execution_count": null,
   "id": "07243600",
   "metadata": {},
   "outputs": [],
   "source": [
    "df3.loc[:5, 'Date_of_Loss':]"
   ]
  },
  {
   "cell_type": "markdown",
   "id": "aa55075a",
   "metadata": {},
   "source": [
    "## Selectin Rows Based On Conditions"
   ]
  },
  {
   "cell_type": "code",
   "execution_count": null,
   "id": "2fc840aa",
   "metadata": {},
   "outputs": [],
   "source": [
    "df3.loc[df3['State_of_Venue']=='CA']"
   ]
  },
  {
   "cell_type": "code",
   "execution_count": null,
   "id": "baf50542",
   "metadata": {},
   "outputs": [],
   "source": [
    "df3.loc[(df3['State_of_Venue']=='CA') & (df3['Customer']=='Hartford')]"
   ]
  },
  {
   "cell_type": "markdown",
   "id": "7f826940",
   "metadata": {},
   "source": [
    "#### Selecting A Column"
   ]
  },
  {
   "cell_type": "code",
   "execution_count": null,
   "id": "8d3ea97c",
   "metadata": {},
   "outputs": [],
   "source": [
    "df3[['State_of_Venue']]"
   ]
  },
  {
   "cell_type": "markdown",
   "id": "ffafd694",
   "metadata": {},
   "source": [
    "#### Selecting Multiple Columns"
   ]
  },
  {
   "cell_type": "code",
   "execution_count": null,
   "id": "a60bc5ac",
   "metadata": {},
   "outputs": [],
   "source": [
    "df3 [['State_of_Venue','Claim_Body_Part']]"
   ]
  },
  {
   "cell_type": "markdown",
   "id": "4ad25042",
   "metadata": {},
   "source": [
    "## Visualization (Matplotlib)"
   ]
  },
  {
   "cell_type": "markdown",
   "id": "10413df2",
   "metadata": {},
   "source": [
    "#### Histogram Plots"
   ]
  },
  {
   "cell_type": "code",
   "execution_count": null,
   "id": "c9ddb9a2",
   "metadata": {},
   "outputs": [],
   "source": [
    "#Reconnect DataFrame\n",
    "\n",
    "import matplotlib.pyplot as plt\n",
    "import seaborn as sns\n",
    "%matplotlib inline\n",
    "import numpy as np\n",
    "\n",
    "#styling\n",
    "plt.style.use('fivethirtyeight')\n",
    "\n",
    "# change size of the plot\n",
    "plt.figure(figsize=(15,5))\n",
    "\n",
    "plt.hist(df1['spend'], bins=100, facecolor = 'blue', edgecolor= 'black', label=\"spend\")\n",
    "plt.title('Spend')\n",
    "plt.ylabel('Count')\n",
    "plt.xlabel('Dollars')\n",
    "plt.legend()\n",
    "plt.show\n",
    "\n"
   ]
  },
  {
   "cell_type": "markdown",
   "id": "60293584",
   "metadata": {},
   "source": [
    "#### Scatter Plots (1 Scatter Plot)"
   ]
  },
  {
   "cell_type": "code",
   "execution_count": null,
   "id": "99e6d99b",
   "metadata": {},
   "outputs": [],
   "source": [
    "plt.figure(figsize=(15,5))\n",
    "plt.scatter(df1['spend'], df1['billed_visits'], label='spend')\n",
    "\n",
    "plt.title('Scatter Plot 1')\n",
    "plt.ylabel('Billed Visits')\n",
    "plt.xlabel('Spend')\n",
    "plt.legend()\n"
   ]
  },
  {
   "cell_type": "markdown",
   "id": "cf45c398",
   "metadata": {},
   "source": [
    "#### Scatter Plot (2 Scatter Plot)"
   ]
  },
  {
   "cell_type": "code",
   "execution_count": null,
   "id": "3311a66e",
   "metadata": {},
   "outputs": [],
   "source": [
    "plt.figure(figsize=(15,5))\n",
    "\n",
    "plt.scatter(df1['spend'], df1['billed_visits'], label=\"spend\")\n",
    "plt.scatter(df1['spend'], df1['actual_visits'], label=\"spend\", c=\"red\")\n",
    "\n",
    "plt.title('Scatter Plot 2')\n",
    "plt.ylabel('Visits')\n",
    "plt.xlabel('Spend')\n",
    "\n",
    "#can move location of chart legend\n",
    "plt.legend(loc='upper center')\n"
   ]
  },
  {
   "cell_type": "markdown",
   "id": "dd77f380",
   "metadata": {},
   "source": [
    "#### Line Chart"
   ]
  },
  {
   "cell_type": "code",
   "execution_count": null,
   "id": "90982dc4",
   "metadata": {},
   "outputs": [],
   "source": [
    "plt.figure(figsize=(15,5))\n",
    "\n",
    "# x, y variables\n",
    "ages_x = [25, 26, 27, 28, 29, 30, 31, 32, 33, 34, 35]\n",
    "\n",
    "dev_y = [38496, 42000, 46752, 49320, 53200, 56000, 62316, 64928, 67317, 68748, 73752]\n",
    "\n",
    "plt.title('Salaries By Age')\n",
    "plt.ylabel('Salary')\n",
    "plt.xlabel('Age')\n",
    "\n",
    "plt.plot(ages_x, dev_y, color=\"green\", label=\"Salaries\")  #color can take hex numbers (#9c27b0)\n",
    "\n",
    "plt.legend(loc=\"upper center\")  #can move legend around using 'loc'"
   ]
  },
  {
   "cell_type": "code",
   "execution_count": null,
   "id": "cc56c493",
   "metadata": {},
   "outputs": [],
   "source": [
    "plt.figure(figsize=(15,5))\n",
    "\n",
    "# x, y variables\n",
    "ages_x = [25, 26, 27, 28, 29, 30, 31, 32, 33, 34, 35]\n",
    "\n",
    "dev_y = [38496, 42000, 46752, 49320, 53200, 56000, 62316, 64928, 67317, 68748, 73752]\n",
    "dev_y2 = [37810, 43515, 46823, 49293, 53437, 56373, 62375, 66674, 68745, 68746, 74583]\n",
    "\n",
    "plt.title('Salaries By Age')\n",
    "plt.ylabel('Salary')\n",
    "plt.xlabel('Age')\n",
    "\n",
    "\n",
    "plt.plot(ages_x, dev_y, color=\"green\", label=\"Salaries\")  #color can take hex numbers (#9c27b0)\n",
    "plt.plot(ages_x, dev_y2, color='red', label=\"Salaries2\")\n",
    "\n",
    "plt.legend(loc=\"upper center\")  #can move legend around using 'loc'"
   ]
  },
  {
   "cell_type": "markdown",
   "id": "bc2144ed",
   "metadata": {},
   "source": [
    "#### Bar Charts"
   ]
  },
  {
   "cell_type": "code",
   "execution_count": null,
   "id": "3bf25ea5",
   "metadata": {},
   "outputs": [],
   "source": [
    "plt.figure(figsize=(15,5))\n",
    "\n",
    "# x, y variables\n",
    "ages_x = [25, 26, 27, 28, 29, 30, 31, 32, 33, 34, 35]\n",
    "\n",
    "dev_y = [38496, 42000, 46752, 49320, 53200, 56000, 62316, 64928, 67317, 68748, 73752]\n",
    "\n",
    "plt.title('Salaries By Age')\n",
    "plt.ylabel('Salary')\n",
    "plt.xlabel('Age')\n",
    "\n",
    "\n",
    "plt.bar(ages_x, dev_y, color=\"#9c27b0\", label=\"Salaries\")  #color can take hex numbers (#9c27b0)\n",
    "\n",
    "plt.legend(loc=\"upper center\")  #can move legend around using 'loc'"
   ]
  },
  {
   "cell_type": "markdown",
   "id": "9a7f8e1f",
   "metadata": {},
   "source": [
    "#### Stacked Bar Chart"
   ]
  },
  {
   "cell_type": "code",
   "execution_count": null,
   "id": "739de272",
   "metadata": {},
   "outputs": [],
   "source": [
    "plt.figure(figsize=(15,5))\n",
    "\n",
    "# x, y variables\n",
    "ages_x = [25, 26, 27, 28, 29, 30, 31, 32, 33, 34, 35]\n",
    "\n",
    "\n",
    "dev_y = [45372, 48876, 53850, 57287, 63016, 65998, 70003, 70000, 71496, 75370, 83640]\n",
    "plt.bar(ages_x, dev_y, color='yellow', label=\"Salaries\")\n",
    "\n",
    "dev_y2 = [37810, 43515, 46823, 49293, 53437, 56373, 62375, 66674, 68745, 68746, 74583]\n",
    "plt.bar(ages_x, dev_y2, color=\"#9c27b0\", label=\"Salaries_2\")  #color can take hex numbers (#9c27b0)\n",
    "\n",
    "plt.title('Salaries By Age')\n",
    "plt.ylabel('Salary')\n",
    "plt.xlabel('Age')\n",
    "plt.legend(loc=\"upper center\")  #can move legend around using 'loc'"
   ]
  },
  {
   "cell_type": "markdown",
   "id": "8f4349bd",
   "metadata": {},
   "source": [
    "#### Side By Side Bar Chart"
   ]
  },
  {
   "cell_type": "code",
   "execution_count": null,
   "id": "440024e2",
   "metadata": {},
   "outputs": [],
   "source": [
    "plt.figure(figsize=(15,5))\n",
    "\n",
    "# x, y variables\n",
    "ages_x = [25, 26, 27, 28, 29, 30, 31, 32, 33, 34, 35]\n",
    "x_shift_index = np.arange(len(ages_x))\n",
    "width = 0.25\n",
    "\n",
    "#middle bar chart\n",
    "dev_y = [38496, 42000,46752, 49320, 53200, 56000, 62316, 64928, 67317, 68748, 73752]\n",
    "plt.bar(x_shift_index - width, dev_y, width = width, color='blue', label=\"Salaries\")\n",
    "\n",
    "dev_y2 = [45372, 48876, 53850, 57287, 63016, 65998, 70003, 70000, 71496, 75370, 83640]\n",
    "plt.bar(x_shift_index, dev_y2, width = width, color='yellow', label=\"Salaries_2\")\n",
    "\n",
    "dev_y3 = [37810, 43515, 46823, 49293, 53437, 56373, 62375, 66674, 68745, 68746, 74583]\n",
    "plt.bar(x_shift_index + width, dev_y3, width = width, color=\"#9c27b0\", label=\"Salaries_3\")  #color can take hex numbers (#9c27b0)\n",
    "\n",
    "plt.title('Salaries By Age')\n",
    "plt.ylabel('Salary')\n",
    "plt.xlabel('Age')\n",
    "#plt.xticks(ticks=x_shift_index, labels=ages_x)\n",
    "plt.legend(loc=\"best\")"
   ]
  },
  {
   "cell_type": "markdown",
   "id": "4999de93",
   "metadata": {},
   "source": [
    "## Summary/Descriptive Statistics"
   ]
  },
  {
   "cell_type": "markdown",
   "id": "2c6942f2",
   "metadata": {},
   "source": [
    "#### Basic Statistics Methods"
   ]
  },
  {
   "cell_type": "code",
   "execution_count": null,
   "id": "52499caa",
   "metadata": {},
   "outputs": [],
   "source": [
    "#Finds the a columns count\n",
    "df1['spend'].count()"
   ]
  },
  {
   "cell_type": "code",
   "execution_count": null,
   "id": "3515a351",
   "metadata": {},
   "outputs": [],
   "source": [
    "#Finds the minimum number in column\n",
    "df1['spend'].min()"
   ]
  },
  {
   "cell_type": "code",
   "execution_count": null,
   "id": "45907096",
   "metadata": {},
   "outputs": [],
   "source": [
    "#Finds the max number in a column\n",
    "df1['spend'].max()"
   ]
  },
  {
   "cell_type": "code",
   "execution_count": null,
   "id": "3ec657fd",
   "metadata": {},
   "outputs": [],
   "source": [
    "#Average of spend column\n",
    "\n",
    "df1['spend'].mean()"
   ]
  },
  {
   "cell_type": "code",
   "execution_count": null,
   "id": "ee9925da",
   "metadata": {},
   "outputs": [],
   "source": [
    "#Median of spend column\n",
    "df1['spend'].median()"
   ]
  },
  {
   "cell_type": "code",
   "execution_count": null,
   "id": "ef1e64d1",
   "metadata": {},
   "outputs": [],
   "source": [
    "#Mode of spend columns\n",
    "df1['spend'].mode()"
   ]
  },
  {
   "cell_type": "code",
   "execution_count": null,
   "id": "d34c0afb",
   "metadata": {},
   "outputs": [],
   "source": [
    "#Standard Deviation of spend column\n",
    "\n",
    "#rounding number to 'x' number of digits\n",
    "round(df1['spend'].std(),2)"
   ]
  },
  {
   "cell_type": "markdown",
   "id": "85cb2ac1",
   "metadata": {},
   "source": [
    "#### Percentiles"
   ]
  },
  {
   "cell_type": "code",
   "execution_count": null,
   "id": "3993f06b",
   "metadata": {},
   "outputs": [],
   "source": [
    "#Using numpy\n",
    "np.percentile(df1['spend'], q=[25,50,75])"
   ]
  },
  {
   "cell_type": "code",
   "execution_count": null,
   "id": "6db88285",
   "metadata": {},
   "outputs": [],
   "source": [
    "#Using .quantile method on df\n",
    "df1['spend'].quantile(q=[0.25])\n",
    "#df['spend'].quantile(q=[0.25, 0.50])\n"
   ]
  },
  {
   "cell_type": "markdown",
   "id": "9a3b59c5",
   "metadata": {},
   "source": [
    "#### One Stop Shop Descriptive Stats"
   ]
  },
  {
   "cell_type": "code",
   "execution_count": null,
   "id": "276f7452",
   "metadata": {},
   "outputs": [],
   "source": [
    "df1['spend'].describe()"
   ]
  },
  {
   "cell_type": "markdown",
   "id": "94fefbfa",
   "metadata": {},
   "source": [
    "## An Example Using Summary/Descriptive Statistics"
   ]
  },
  {
   "cell_type": "code",
   "execution_count": null,
   "id": "c37b6a68",
   "metadata": {},
   "outputs": [],
   "source": [
    "import pandas as pd\n",
    "import numpy as np\n",
    "\n",
    "#create DataFrame\n",
    "df = pd.DataFrame({'team': ['A', 'A', 'A', 'A', 'B', 'B', 'B', 'B', 'B'],\n",
    "                   'points': [18, 22, 19, 14, 14, 11, 20, 28, 30],\n",
    "                   'assists': [5, np.nan, 7, 9, 12, 9, 9, 4, 5],\n",
    "                   'rebounds': [11, 8, 10, 6, 6, 5, 9, np.nan, 6]})\n",
    "\n",
    "#view DataFrame\n",
    "df"
   ]
  },
  {
   "cell_type": "code",
   "execution_count": null,
   "id": "2f0633a4",
   "metadata": {},
   "outputs": [],
   "source": [
    "#Using .describe() method on an entire dataframe\n",
    "df.describe()"
   ]
  },
  {
   "cell_type": "code",
   "execution_count": null,
   "id": "c5092fe1",
   "metadata": {},
   "outputs": [],
   "source": [
    "#Use 'include='object' parameter to get description data on string columns\n",
    "\n",
    "df.describe(include='object')"
   ]
  },
  {
   "cell_type": "markdown",
   "id": "9773f873",
   "metadata": {},
   "source": [
    "#### Group By & Summary Statistics"
   ]
  },
  {
   "cell_type": "code",
   "execution_count": null,
   "id": "315a255c",
   "metadata": {},
   "outputs": [],
   "source": [
    "#Using summary statistics with groupby\n",
    "df.groupby('team').mean()"
   ]
  },
  {
   "cell_type": "code",
   "execution_count": null,
   "id": "daca0f69",
   "metadata": {},
   "outputs": [],
   "source": [
    "df.groupby('team').median()"
   ]
  },
  {
   "cell_type": "code",
   "execution_count": null,
   "id": "b7557418",
   "metadata": {},
   "outputs": [],
   "source": [
    "df.groupby('team').std()\n",
    "#round(df.groupby('team').std(),2)"
   ]
  },
  {
   "cell_type": "markdown",
   "id": "219a7f48",
   "metadata": {},
   "source": [
    "## Iterating Over Rows In A DataFrame"
   ]
  },
  {
   "cell_type": "markdown",
   "id": "3135586f",
   "metadata": {},
   "source": [
    "#### For Loop Example"
   ]
  },
  {
   "cell_type": "code",
   "execution_count": null,
   "id": "0badb458",
   "metadata": {},
   "outputs": [],
   "source": [
    "a_list = [1,2,3,4,5]\n",
    "\n",
    "for i in range(len(a_list)):\n",
    "    print(a_list[i] * 2)"
   ]
  },
  {
   "cell_type": "code",
   "execution_count": null,
   "id": "2f7f99a8",
   "metadata": {},
   "outputs": [],
   "source": [
    "df = pd.DataFrame({'Num':range(1, 10),    # Create pandas DataFrame\n",
    "                     'Letter':['a', 'b', 'c', 'd', 'e', 'f', 'g', 'h', 'i'],\n",
    "                  'Color': ['yellow', 'green', 'blue', 'organge', 'pink', 'red', 'orange', 'violet', 'purple']})\n",
    "df    "
   ]
  },
  {
   "cell_type": "markdown",
   "id": "ce96ecbb",
   "metadata": {},
   "source": [
    "#### Looping Over Rows In A DataFrame"
   ]
  },
  {
   "cell_type": "code",
   "execution_count": null,
   "id": "2080ab53",
   "metadata": {},
   "outputs": [],
   "source": [
    "for i, row in df.iterrows():\n",
    "    print('This is the index:', i, 'Column 1:', row['Num'], 'Column 2:',row['Letter'], 'Column 3:', row['Color'])"
   ]
  },
  {
   "cell_type": "markdown",
   "id": "3056b9c6",
   "metadata": {},
   "source": [
    "#### Performing Calculations Looping Over Rows"
   ]
  },
  {
   "cell_type": "code",
   "execution_count": null,
   "id": "d8e60e4d",
   "metadata": {},
   "outputs": [],
   "source": [
    "for i, row in df.iterrows():            # Use iterrows to calculate by row\n",
    "    print('Double', row['Num'], 'is:', row['Num'] * 2)"
   ]
  },
  {
   "cell_type": "markdown",
   "id": "83685cf2",
   "metadata": {},
   "source": [
    "#### Using Iterrows To Create A Column"
   ]
  },
  {
   "cell_type": "code",
   "execution_count": null,
   "id": "6bdfa810",
   "metadata": {},
   "outputs": [],
   "source": [
    "for i,row in df.iterrows():\n",
    "    df.loc[i, 'Random'] = np.random.randint(0, 10)  #example using np.random to create random numbers 0 thru 10 (1 through 9)\n",
    "df"
   ]
  },
  {
   "cell_type": "markdown",
   "id": "9a69865a",
   "metadata": {},
   "source": [
    "## Machine Learning Examples (Supervised)"
   ]
  },
  {
   "cell_type": "markdown",
   "id": "39fd4ae9",
   "metadata": {},
   "source": [
    "### KNN Breast Cancer Prediction\n",
    "#####  Determine whether a patient has Cancer"
   ]
  },
  {
   "cell_type": "code",
   "execution_count": null,
   "id": "3b63d340",
   "metadata": {},
   "outputs": [],
   "source": [
    "import sklearn.datasets\n",
    "data = sklearn.datasets.load_breast_cancer()\n",
    "data\n",
    "from sklearn.model_selection import train_test_split\n",
    "from sklearn.neighbors import KNeighborsClassifier\n",
    "from sklearn import metrics\n",
    "import numpy as np"
   ]
  },
  {
   "cell_type": "code",
   "execution_count": null,
   "id": "96862688",
   "metadata": {},
   "outputs": [],
   "source": [
    "X = data.data\n",
    "print(X.shape)"
   ]
  },
  {
   "cell_type": "code",
   "execution_count": null,
   "id": "15b5ae50",
   "metadata": {},
   "outputs": [],
   "source": [
    "X"
   ]
  },
  {
   "cell_type": "code",
   "execution_count": null,
   "id": "764b48f7",
   "metadata": {},
   "outputs": [],
   "source": [
    "y = data.target\n"
   ]
  },
  {
   "cell_type": "code",
   "execution_count": null,
   "id": "b416fb93",
   "metadata": {},
   "outputs": [],
   "source": [
    "# Putting dataset into DataFrame\n",
    "\n",
    "data1 = pd.DataFrame(data.data, columns = data.feature_names)\n",
    "data1.columns"
   ]
  },
  {
   "cell_type": "code",
   "execution_count": null,
   "id": "a0e11d7a",
   "metadata": {},
   "outputs": [],
   "source": [
    "data1.head()"
   ]
  },
  {
   "cell_type": "code",
   "execution_count": null,
   "id": "a36fb06f",
   "metadata": {},
   "outputs": [],
   "source": [
    "#Split into train and test\n",
    "X_train, X_test, y_train, y_test = train_test_split(X, y, test_size=0.4, random_state =4) # 60% training and 40% test"
   ]
  },
  {
   "cell_type": "code",
   "execution_count": null,
   "id": "3a5bd7f1",
   "metadata": {},
   "outputs": [],
   "source": [
    "#Finding a the best value for K\n",
    "#For to to calculate K from 1 through 25 and record testing accuracy\n",
    "k_range = range(1,25)\n",
    "scores = []\n",
    "for k in k_range:\n",
    " knn = KNeighborsClassifier(n_neighbors = k)\n",
    " knn.fit(X_train, y_train)\n",
    " y_pred = knn.predict(X_test)\n",
    " scores.append(metrics.accuracy_score(y_test,y_pred))"
   ]
  },
  {
   "cell_type": "code",
   "execution_count": null,
   "id": "285cedca",
   "metadata": {},
   "outputs": [],
   "source": [
    "# Plot relationship between K and testing accuracy\n",
    "import matplotlib.pyplot as plt\n",
    "%matplotlib inline\n",
    "plt.plot(k_range, scores)\n",
    "plt.xlabel('Value of K for KNN')\n",
    "plt.ylabel('Testing Accuracy')"
   ]
  },
  {
   "cell_type": "code",
   "execution_count": null,
   "id": "7f5cabfe",
   "metadata": {},
   "outputs": [],
   "source": [
    "\n",
    "# Create a k-NN classifier with 5 neighbors\n",
    "knn = KNeighborsClassifier(n_neighbors=7) #According to graph, best K values ~ 4,6,7,8,9\n",
    "# Fit the classifier to the training data\n",
    "knn.fit(X_train, y_train)\n",
    "#Predict the response for test dataset\n",
    "y_pred = knn.predict(X_test)\n",
    "print(y_pred)\n"
   ]
  },
  {
   "cell_type": "code",
   "execution_count": null,
   "id": "b9492150",
   "metadata": {},
   "outputs": [],
   "source": [
    "print (round(metrics.accuracy_score(y_test, y_pred),2))"
   ]
  },
  {
   "cell_type": "markdown",
   "id": "4049aeda",
   "metadata": {},
   "source": [
    "### Linear Regression Boston Housing Market\n",
    "###### Single variable LR model to predict Boston Home prices based on the number of rooms."
   ]
  },
  {
   "cell_type": "code",
   "execution_count": null,
   "id": "373bf71b",
   "metadata": {},
   "outputs": [],
   "source": [
    "import pandas as pd\n",
    "import numpy as np\n",
    "import matplotlib.pyplot as plt\n",
    "import seaborn as sns\n",
    "%matplotlib inline\n",
    "from sklearn import datasets"
   ]
  },
  {
   "cell_type": "code",
   "execution_count": null,
   "id": "58bf74c5",
   "metadata": {},
   "outputs": [],
   "source": [
    "data = datasets.load_boston()\n",
    "print(data.DESCR)"
   ]
  },
  {
   "cell_type": "code",
   "execution_count": null,
   "id": "6b786014",
   "metadata": {},
   "outputs": [],
   "source": [
    "data = datasets.load_boston()"
   ]
  },
  {
   "cell_type": "code",
   "execution_count": null,
   "id": "5e4e6f17",
   "metadata": {},
   "outputs": [],
   "source": [
    "boston = pd.DataFrame(data.data, columns = data.feature_names)\n",
    "boston.head()\n"
   ]
  },
  {
   "cell_type": "code",
   "execution_count": null,
   "id": "a7c1a2e5",
   "metadata": {},
   "outputs": [],
   "source": [
    "# Adding Home Values(target array) to the data frame.\n",
    "boston['MEDV']=data.target\n",
    "boston.head()"
   ]
  },
  {
   "cell_type": "code",
   "execution_count": null,
   "id": "35545d3b",
   "metadata": {},
   "outputs": [],
   "source": [
    "boston.shape"
   ]
  },
  {
   "cell_type": "code",
   "execution_count": null,
   "id": "51276ee0",
   "metadata": {},
   "outputs": [],
   "source": [
    "# Use heat map to find best correlating variables to perfrom regression\n",
    "plt.figure(figsize=(15,5))\n",
    "\n",
    "\n",
    "correlation_matrix = boston.corr().round(2)\n",
    "sns.heatmap(data=correlation_matrix, annot=True)"
   ]
  },
  {
   "cell_type": "code",
   "execution_count": null,
   "id": "62f22b72",
   "metadata": {},
   "outputs": [],
   "source": [
    "#Create and reshape feature(X) and target(y) variables.  Need to be in same dimensions.\n",
    "X = boston['RM'].values.reshape(-1,1)\n",
    "y = boston['MEDV'].values.reshape(-1,1)\n",
    "print(X.shape)\n",
    "print(y.shape)"
   ]
  },
  {
   "cell_type": "code",
   "execution_count": null,
   "id": "7309ad12",
   "metadata": {},
   "outputs": [],
   "source": [
    "#Plotting to visual size relationship between X,y variables\n",
    "marker_size=5\n",
    "plt.scatter(X,y, marker_size)\n",
    "plt.xlabel('Number of Rooms')\n",
    "plt.ylabel('Home Price')\n",
    "\n"
   ]
  },
  {
   "cell_type": "code",
   "execution_count": null,
   "id": "f55249a5",
   "metadata": {},
   "outputs": [],
   "source": [
    "from sklearn.metrics import mean_squared_error\n",
    "from sklearn.model_selection import train_test_split\n",
    "from sklearn.linear_model import LinearRegression"
   ]
  },
  {
   "cell_type": "code",
   "execution_count": null,
   "id": "f309645e",
   "metadata": {},
   "outputs": [],
   "source": [
    " # Train, test, and fitting the linear regression model.\n",
    "X_test, X_train, y_test, y_train = train_test_split(X, y, test_size=.3, random_state=4)\n",
    "reg1 = LinearRegression()\n",
    "reg1.fit(X_train, y_train)"
   ]
  },
  {
   "cell_type": "code",
   "execution_count": null,
   "id": "bee27b38",
   "metadata": {},
   "outputs": [],
   "source": [
    "y_pred = reg1.predict(X_test)\n",
    "y_pred"
   ]
  },
  {
   "cell_type": "code",
   "execution_count": null,
   "id": "934219de",
   "metadata": {},
   "outputs": [],
   "source": [
    "# Calculating R^2 and RMSE model evalution metrics\n",
    "print(\"R^2: {}\".format(reg1.score(X_test, y_test)))  #measure how well the independent variable can predict the dependent variable\n",
    "RMSE = np.sqrt(mean_squared_error(y_test,y_pred))  #measure how tight data point are along the line of best fit(regression line)\n",
    "print('RMSE: {}'.format(RMSE))\n",
    "\n",
    "# Low R^2 score, may need to tune to model to increase score"
   ]
  },
  {
   "cell_type": "markdown",
   "id": "88d5356c",
   "metadata": {},
   "source": [
    "#### Calculate The Regression Formula to Predict Prices"
   ]
  },
  {
   "cell_type": "code",
   "execution_count": null,
   "id": "9b43e170",
   "metadata": {},
   "outputs": [],
   "source": [
    "plt.figure(figsize=(12,10))\n",
    "plt.scatter(y_test,y_pred,color='Red',marker='*')\n",
    "\n",
    "m, b = np.polyfit(np.concatenate(y_test), y_pred, 1)\n",
    "\n",
    "y_values = []\n",
    "for i in range(len(y_test)):\n",
    "    y = m*y_test[i] + b\n",
    "    y_values.append(y)\n",
    "plt.plot(y_test, y_values, linewidth=1, color='blue')\n",
    "\n",
    "\n",
    "plt.xlabel(\"Prices\",{'size':20})\n",
    "plt.ylabel(\"Predictions\",{'size':20})\n",
    "plt.title(\"Predicted Prices vs Prices\",{'size':20})\n",
    "\n",
    "print ('m:', m)\n",
    "print('b: ', b)"
   ]
  },
  {
   "cell_type": "markdown",
   "id": "a0d1b44b",
   "metadata": {},
   "source": [
    "\n",
    "### Logistic Regression\n",
    "##### Predicting Credit Card Fraud"
   ]
  },
  {
   "cell_type": "code",
   "execution_count": null,
   "id": "ef61e9f6",
   "metadata": {},
   "outputs": [],
   "source": [
    "import pandas as pd\n",
    "import numpy as np\n",
    "\n",
    "from sklearn.model_selection import train_test_split\n",
    "from sklearn.preprocessing import StandardScaler\n",
    "from sklearn.linear_model import LogisticRegression\n",
    "from sklearn.pipeline import make_pipeline\n",
    "from sklearn.metrics import roc_curve, roc_auc_score, classification_report, accuracy_score, confusion_matrix \n",
    "import seaborn as sns\n",
    "import matplotlib.pyplot as plt"
   ]
  },
  {
   "cell_type": "code",
   "execution_count": null,
   "id": "bded2eae",
   "metadata": {},
   "outputs": [],
   "source": [
    "df = pd.read_csv(r'C:\\Users\\rquiles\\OneDrive - Healthesystems, LLC\\Desktop\\creditcard.csv')\n",
    "df.head()"
   ]
  },
  {
   "cell_type": "code",
   "execution_count": null,
   "id": "fe274938",
   "metadata": {},
   "outputs": [],
   "source": [
    "print('# of fraud:', df['Class'].value_counts()[1])\n",
    "print('# of non-fraud:', df['Class'].value_counts()[0])\n",
    "#print(df['Class'].value_counts())     "
   ]
  },
  {
   "cell_type": "code",
   "execution_count": null,
   "id": "33b8681b",
   "metadata": {},
   "outputs": [],
   "source": [
    "import numpy as np\n",
    "class_x = [1,0]\n",
    "x_index = np.arange(len(class_x))\n",
    "\n",
    "x = [1, 0]\n",
    "y = [df['Class'].value_counts()[1], df['Class'].value_counts()[0]]\n",
    "plt.bar(x, y)\n",
    "plt.xticks(ticks=x_index, labels=class_x)"
   ]
  },
  {
   "cell_type": "code",
   "execution_count": null,
   "id": "07226fe3",
   "metadata": {},
   "outputs": [],
   "source": [
    "#Dropping the predict variable \"Class\" from the dataset\n",
    "\n",
    "X = df.drop(['Class'], axis = 1)\n",
    "y = df['Class']\n",
    "\n",
    "print(X.shape)\n",
    "print(y.shape)"
   ]
  },
  {
   "cell_type": "code",
   "execution_count": null,
   "id": "ee99ce35",
   "metadata": {},
   "outputs": [],
   "source": [
    "#Seperating Data Set into Testing and Training Data Sets\n",
    "\n",
    "X_train, X_test, y_train, y_test = train_test_split(X, y)"
   ]
  },
  {
   "cell_type": "code",
   "execution_count": null,
   "id": "34efc9ea",
   "metadata": {},
   "outputs": [],
   "source": [
    "#Setting up the pipeline.  pipeline is used to chain steps together.  good when you need to preprocess data on the fly\n",
    "\n",
    "scaler = StandardScaler()  #Standard scales to scale numerical values between 0 and 1\n",
    "\n",
    "lr = LogisticRegression()\n",
    "\n",
    "model = make_pipeline(scaler, lr)\n",
    "\n"
   ]
  },
  {
   "cell_type": "code",
   "execution_count": null,
   "id": "90d7b1bc",
   "metadata": {},
   "outputs": [],
   "source": [
    "model.fit(X_train, y_train)"
   ]
  },
  {
   "cell_type": "code",
   "execution_count": null,
   "id": "2af7e97c",
   "metadata": {},
   "outputs": [],
   "source": [
    "y_pred = model.predict(X_test)\n",
    "y_pred_probs = model.predict_proba(X_test)[:,1]\n",
    "print(y_pred_probs)"
   ]
  },
  {
   "cell_type": "code",
   "execution_count": null,
   "id": "7c76d5d2",
   "metadata": {},
   "outputs": [],
   "source": [
    "#test_accuracy = accuracy_score(y_test, y_pred)*100\n",
    "test_auc_roc = roc_auc_score(y_test, y_pred)*100\n",
    "\n",
    "print('Confusion matrix:\\n', confusion_matrix(y_test, y_pred))\n",
    "\n",
    "print('Testing AUC: %.2f %%' % test_auc_roc)  \n",
    "#print('Testing accuracy: %.4f %%' % test_accuracy) \n",
    "\n",
    "\"\"\"\n",
    "Confusion Matrix used to measure performance of classification model.  Good Model = high TP & TN, low FP & FN.  Good for imbalance dataset\n",
    "TP  FP\n",
    "FN  TN\n",
    "\n",
    "columns = actual Values, rows = predicted values\n",
    "\"\"\""
   ]
  },
  {
   "cell_type": "markdown",
   "id": "b1799f0b",
   "metadata": {},
   "source": [
    "### AUC = area under curve; ROC = receiver operating characteristic"
   ]
  },
  {
   "cell_type": "code",
   "execution_count": null,
   "id": "732fb8b7",
   "metadata": {},
   "outputs": [],
   "source": [
    "tpr, fpr, _ = roc_curve(y_test, y_pred_probs)\n",
    "\n",
    "x1 = [0, 0.2, 0.4, 0.6, 0.8, 1.0]\n",
    "y1 = [0, 0.2, 0.4, 0.6, 0.8, 1.0]\n",
    "\n",
    "plt.plot(tpr,fpr)\n",
    "plt.plot(x1,y1, color='red', marker='_')\n",
    "\n",
    "plt.ylabel('True Positive Rate')\n",
    "plt.xlabel('False Positive Rate')\n"
   ]
  },
  {
   "cell_type": "code",
   "execution_count": null,
   "id": "113447f6",
   "metadata": {},
   "outputs": [],
   "source": [
    "\"\"\" The relationship between TRP and FRP. auc-roc tells you how well the model is capable of distinguishing between classes, \n",
    "in this case 0 & 1. Measure of seperability  Score of 0.5 means no ability to tell between 0 & 1\"\"\""
   ]
  },
  {
   "cell_type": "code",
   "execution_count": null,
   "id": "5da7e339",
   "metadata": {},
   "outputs": [],
   "source": [
    "#print(classification_report(y_test, y_pred, digits=6))"
   ]
  },
  {
   "cell_type": "markdown",
   "id": "c7bf75a0",
   "metadata": {},
   "source": [
    "### Logistic Regression on Titanic Data Set"
   ]
  },
  {
   "cell_type": "code",
   "execution_count": null,
   "id": "54b77e73",
   "metadata": {},
   "outputs": [],
   "source": [
    "df = pd.read_csv('http://bit.ly/kaggletrain')\n",
    "df.head()"
   ]
  },
  {
   "cell_type": "code",
   "execution_count": null,
   "id": "92f94d0e",
   "metadata": {},
   "outputs": [],
   "source": [
    "df.columns"
   ]
  },
  {
   "cell_type": "code",
   "execution_count": null,
   "id": "acaae7ad",
   "metadata": {},
   "outputs": [],
   "source": [
    "df.shape"
   ]
  },
  {
   "cell_type": "code",
   "execution_count": null,
   "id": "fb4b02a6",
   "metadata": {},
   "outputs": [],
   "source": [
    "df.isna().sum()"
   ]
  },
  {
   "cell_type": "code",
   "execution_count": null,
   "id": "b41f4fa4",
   "metadata": {},
   "outputs": [],
   "source": [
    "df = df.loc[df.Embarked.notna(), ['Survived', 'Pclass', 'Sex', 'Embarked']]\n",
    "df.head()"
   ]
  },
  {
   "cell_type": "code",
   "execution_count": null,
   "id": "0d664c79",
   "metadata": {},
   "outputs": [],
   "source": [
    "df.shape"
   ]
  },
  {
   "cell_type": "code",
   "execution_count": null,
   "id": "a2bf2fc2",
   "metadata": {},
   "outputs": [],
   "source": [
    "X = df.loc[:, ['Pclass']]\n",
    "y = df['Survived']"
   ]
  },
  {
   "cell_type": "code",
   "execution_count": null,
   "id": "dff9b75e",
   "metadata": {},
   "outputs": [],
   "source": [
    "from sklearn.linear_model import LogisticRegression\n",
    "\n",
    "lr = LogisticRegression(solver = 'lbfgs')"
   ]
  },
  {
   "cell_type": "code",
   "execution_count": null,
   "id": "92628611",
   "metadata": {},
   "outputs": [],
   "source": [
    "from sklearn.model_selection import cross_val_score\n",
    "\n",
    "cross_val_score(lr, X, y, cv=5, scoring='accuracy').mean()"
   ]
  },
  {
   "cell_type": "markdown",
   "id": "01de3a2b",
   "metadata": {},
   "source": [
    "### How does performance change adding columns\n",
    "#### Encoding Categorical Values"
   ]
  },
  {
   "cell_type": "code",
   "execution_count": null,
   "id": "56233fcb",
   "metadata": {},
   "outputs": [],
   "source": [
    "from sklearn.preprocessing import OneHotEncoder\n",
    "one = OneHotEncoder(sparse=False)  #sparse False to return an array"
   ]
  },
  {
   "cell_type": "code",
   "execution_count": null,
   "id": "00e3f808",
   "metadata": {},
   "outputs": [],
   "source": [
    "one.fit_transform(df[['Sex']])\n",
    "\n",
    "#first column represents female, second column male"
   ]
  },
  {
   "cell_type": "code",
   "execution_count": null,
   "id": "ff1c9496",
   "metadata": {},
   "outputs": [],
   "source": [
    "one.categories_"
   ]
  },
  {
   "cell_type": "code",
   "execution_count": null,
   "id": "c3892fb6",
   "metadata": {},
   "outputs": [],
   "source": [
    "one.fit_transform(df[['Embarked']])"
   ]
  },
  {
   "cell_type": "code",
   "execution_count": null,
   "id": "ebe12a31",
   "metadata": {},
   "outputs": [],
   "source": [
    "one.categories_"
   ]
  },
  {
   "cell_type": "code",
   "execution_count": null,
   "id": "84e20243",
   "metadata": {},
   "outputs": [],
   "source": [
    "X = df.drop('Survived', axis = 1)\n",
    "X.head()"
   ]
  },
  {
   "cell_type": "code",
   "execution_count": null,
   "id": "85327300",
   "metadata": {},
   "outputs": [],
   "source": [
    "from sklearn.compose import make_column_transformer #use when data in dataframe need different preprocessing\n",
    "\n",
    "column_trans = make_column_transformer((OneHotEncoder(), ['Sex', 'Embarked']), remainder='passthrough')"
   ]
  },
  {
   "cell_type": "code",
   "execution_count": null,
   "id": "e0de41ed",
   "metadata": {},
   "outputs": [],
   "source": [
    "column_trans.fit_transform(X)  #first 2 column are One Hot Encoded Sex,  the next 3 columns are One Hot Encoded Embarked, and \n",
    "                                # last column is 'passthrough column Pclass'"
   ]
  },
  {
   "cell_type": "code",
   "execution_count": null,
   "id": "5480a1ca",
   "metadata": {},
   "outputs": [],
   "source": [
    "from sklearn.pipeline import make_pipeline  #pipeline is for chaining steps together"
   ]
  },
  {
   "cell_type": "code",
   "execution_count": null,
   "id": "79397892",
   "metadata": {},
   "outputs": [],
   "source": [
    "pipe = make_pipeline(column_trans, lr)"
   ]
  },
  {
   "cell_type": "code",
   "execution_count": null,
   "id": "38a04803",
   "metadata": {},
   "outputs": [],
   "source": [
    "cross_val_score(pipe, X, y, cv =5 , scoring='accuracy').mean()  #cross val "
   ]
  },
  {
   "cell_type": "code",
   "execution_count": null,
   "id": "ebe04ace",
   "metadata": {},
   "outputs": [],
   "source": [
    "X_new = X.sample(5, random_state=99)\n",
    "X_new"
   ]
  },
  {
   "cell_type": "code",
   "execution_count": null,
   "id": "a0bfff27",
   "metadata": {},
   "outputs": [],
   "source": [
    "pipe.fit(X,y)"
   ]
  },
  {
   "cell_type": "code",
   "execution_count": null,
   "id": "a9a6d58e",
   "metadata": {},
   "outputs": [],
   "source": [
    "pipe.predict(X_new)"
   ]
  },
  {
   "cell_type": "code",
   "execution_count": null,
   "id": "fff5d12d",
   "metadata": {},
   "outputs": [],
   "source": []
  }
 ],
 "metadata": {
  "kernelspec": {
   "display_name": "Python 3 (ipykernel)",
   "language": "python",
   "name": "python3"
  },
  "language_info": {
   "codemirror_mode": {
    "name": "ipython",
    "version": 3
   },
   "file_extension": ".py",
   "mimetype": "text/x-python",
   "name": "python",
   "nbconvert_exporter": "python",
   "pygments_lexer": "ipython3",
   "version": "3.9.7"
  }
 },
 "nbformat": 4,
 "nbformat_minor": 5
}
